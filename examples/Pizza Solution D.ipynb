{
 "cells": [
  {
   "cell_type": "markdown",
   "metadata": {},
   "source": [
    "Find all pizzerias that serve at least one pizza that Amy eats for less than $10.00."
   ]
  },
  {
   "cell_type": "code",
   "execution_count": 1,
   "metadata": {},
   "outputs": [
    {
     "name": "stdout",
     "output_type": "stream",
     "text": [
      "Person\n",
      "\n",
      "----------------------------------------------------\n",
      "|      name      |      age       |     gender     |\n",
      "----------------------------------------------------\n",
      "|      Amy       |       16       |     female     |\n",
      "|      Ben       |       21       |      male      |\n",
      "|      Cal       |       33       |      male      |\n",
      "|      Dan       |       13       |      male      |\n",
      "|      Eli       |       45       |      male      |\n",
      "|      Fay       |       21       |     female     |\n",
      "|      Gus       |       24       |      male      |\n",
      "|      Hil       |       30       |     female     |\n",
      "|      Ian       |       18       |      male      |\n",
      "----------------------------------------------------\n",
      "\n",
      "Frequents\n",
      "\n",
      "-----------------------------------\n",
      "|      name      |    pizzeria    |\n",
      "-----------------------------------\n",
      "|      Amy       |   Pizza Hut    |\n",
      "|      Ben       |   Pizza Hut    |\n",
      "|      Ben       | Chicago Pizza  |\n",
      "|      Cal       |   Straw Hat    |\n",
      "|      Cal       | New York Pizza |\n",
      "|      Dan       |   Straw Hat    |\n",
      "|      Dan       | New York Pizza |\n",
      "|      Eli       |   Straw Hat    |\n",
      "|      Eli       | Chicago Pizza  |\n",
      "|      Fay       |    Dominos     |\n",
      "|      Fay       | Little Caesars |\n",
      "|      Gus       | Chicago Pizza  |\n",
      "|      Gus       |   Pizza Hut    |\n",
      "|      Hil       |    Dominos     |\n",
      "|      Hil       |   Straw Hat    |\n",
      "|      Hil       |   Pizza Hut    |\n",
      "|      Ian       | New York Pizza |\n",
      "|      Ian       |   Straw Hat    |\n",
      "|      Ian       |    Dominos     |\n",
      "-----------------------------------\n",
      "\n",
      "Eats\n",
      "\n",
      "-----------------------------------\n",
      "|      name      |     pizza      |\n",
      "-----------------------------------\n",
      "|      Amy       |   pepperoni    |\n",
      "|      Amy       |    mushroom    |\n",
      "|      Ben       |   pepperoni    |\n",
      "|      Ben       |     cheese     |\n",
      "|      Cal       |    supreme     |\n",
      "|      Dan       |   pepperoni    |\n",
      "|      Dan       |     cheese     |\n",
      "|      Dan       |    sausage     |\n",
      "|      Dan       |    supreme     |\n",
      "|      Dan       |    mushroom    |\n",
      "|      Eli       |    supreme     |\n",
      "|      Eli       |     cheese     |\n",
      "|      Fay       |    mushroom    |\n",
      "|      Gus       |    mushroom    |\n",
      "|      Gus       |    supreme     |\n",
      "|      Gus       |     cheese     |\n",
      "|      Hil       |    supreme     |\n",
      "|      Hil       |     cheese     |\n",
      "|      Ian       |    supreme     |\n",
      "|      Ian       |   pepperoni    |\n",
      "-----------------------------------\n",
      "\n",
      "Serves\n",
      "\n",
      "----------------------------------------------------\n",
      "|    pizzeria    |     pizza      |     price      |\n",
      "----------------------------------------------------\n",
      "|   Pizza Hut    |   pepperoni    |       12       |\n",
      "|   Pizza Hut    |    sausage     |       12       |\n",
      "|   Pizza Hut    |     cheese     |       9        |\n",
      "|   Pizza Hut    |    supreme     |       12       |\n",
      "| Little Caesars |   pepperoni    |      9.75      |\n",
      "| Little Caesars |    sausage     |      9.5       |\n",
      "| Little Caesars |     cheese     |       7        |\n",
      "| Little Caesars |    mushroom    |      9.25      |\n",
      "|    Dominos     |     cheese     |      9.75      |\n",
      "|    Dominos     |    mushroom    |       11       |\n",
      "|   Straw Hat    |   pepperoni    |       8        |\n",
      "|   Straw Hat    |     cheese     |      9.25      |\n",
      "|   Straw Hat    |    sausage     |      9.75      |\n",
      "| New York Pizza |   pepperoni    |       8        |\n",
      "| New York Pizza |     cheese     |       7        |\n",
      "| New York Pizza |    supreme     |      8.5       |\n",
      "| Chicago Pizza  |     cheese     |      7.75      |\n",
      "| Chicago Pizza  |    supreme     |      8.5       |\n",
      "----------------------------------------------------\n",
      "\n"
     ]
    }
   ],
   "source": [
    "include(\"pizza_data.jl\")"
   ]
  },
  {
   "cell_type": "code",
   "execution_count": 2,
   "metadata": {},
   "outputs": [
    {
     "data": {
      "text/plain": [
       "----------------------------------------------------\n",
       "|    pizzeria    |     pizza      |     price      |\n",
       "----------------------------------------------------\n",
       "|   Pizza Hut    |     cheese     |       9        |\n",
       "| Little Caesars |   pepperoni    |      9.75      |\n",
       "| Little Caesars |    sausage     |      9.5       |\n",
       "| Little Caesars |     cheese     |       7        |\n",
       "| Little Caesars |    mushroom    |      9.25      |\n",
       "|    Dominos     |     cheese     |      9.75      |\n",
       "|   Straw Hat    |   pepperoni    |       8        |\n",
       "|   Straw Hat    |     cheese     |      9.25      |\n",
       "|   Straw Hat    |    sausage     |      9.75      |\n",
       "| New York Pizza |   pepperoni    |       8        |\n",
       "| New York Pizza |     cheese     |       7        |\n",
       "| New York Pizza |    supreme     |      8.5       |\n",
       "| Chicago Pizza  |     cheese     |      7.75      |\n",
       "| Chicago Pizza  |    supreme     |      8.5       |\n",
       "----------------------------------------------------\n"
      ]
     },
     "execution_count": 2,
     "metadata": {},
     "output_type": "execute_result"
    }
   ],
   "source": [
    "r1 = σ(Serves, :price, <, 10.0)"
   ]
  },
  {
   "cell_type": "code",
   "execution_count": 3,
   "metadata": {},
   "outputs": [
    {
     "data": {
      "text/plain": [
       "-----------------------------------\n",
       "|      name      |     pizza      |\n",
       "-----------------------------------\n",
       "|      Amy       |   pepperoni    |\n",
       "|      Amy       |    mushroom    |\n",
       "-----------------------------------\n"
      ]
     },
     "execution_count": 3,
     "metadata": {},
     "output_type": "execute_result"
    }
   ],
   "source": [
    "r2 = σ(Eats, :name, ==, \"Amy\")"
   ]
  },
  {
   "cell_type": "code",
   "execution_count": 4,
   "metadata": {},
   "outputs": [
    {
     "data": {
      "text/plain": [
       "-----------------------------------\n",
       "|      name      |   eats_pizza   |\n",
       "-----------------------------------\n",
       "|      Amy       |   pepperoni    |\n",
       "|      Amy       |    mushroom    |\n",
       "-----------------------------------\n"
      ]
     },
     "execution_count": 4,
     "metadata": {},
     "output_type": "execute_result"
    }
   ],
   "source": [
    "r3 = ρ(r2, :pizza, :eats_pizza)"
   ]
  },
  {
   "cell_type": "code",
   "execution_count": 5,
   "metadata": {},
   "outputs": [
    {
     "data": {
      "text/plain": [
       "--------------------------------------------------------------------------------------\n",
       "|    pizzeria    |     pizza      |     price      |      name      |   eats_pizza   |\n",
       "--------------------------------------------------------------------------------------\n",
       "|   Pizza Hut    |     cheese     |       9        |      Amy       |   pepperoni    |\n",
       "|   Pizza Hut    |     cheese     |       9        |      Amy       |    mushroom    |\n",
       "| Little Caesars |   pepperoni    |      9.75      |      Amy       |   pepperoni    |\n",
       "| Little Caesars |   pepperoni    |      9.75      |      Amy       |    mushroom    |\n",
       "| Little Caesars |    sausage     |      9.5       |      Amy       |   pepperoni    |\n",
       "| Little Caesars |    sausage     |      9.5       |      Amy       |    mushroom    |\n",
       "| Little Caesars |     cheese     |       7        |      Amy       |   pepperoni    |\n",
       "| Little Caesars |     cheese     |       7        |      Amy       |    mushroom    |\n",
       "| Little Caesars |    mushroom    |      9.25      |      Amy       |   pepperoni    |\n",
       "| Little Caesars |    mushroom    |      9.25      |      Amy       |    mushroom    |\n",
       "|    Dominos     |     cheese     |      9.75      |      Amy       |   pepperoni    |\n",
       "|    Dominos     |     cheese     |      9.75      |      Amy       |    mushroom    |\n",
       "|   Straw Hat    |   pepperoni    |       8        |      Amy       |   pepperoni    |\n",
       "|   Straw Hat    |   pepperoni    |       8        |      Amy       |    mushroom    |\n",
       "|   Straw Hat    |     cheese     |      9.25      |      Amy       |   pepperoni    |\n",
       "|   Straw Hat    |     cheese     |      9.25      |      Amy       |    mushroom    |\n",
       "|   Straw Hat    |    sausage     |      9.75      |      Amy       |   pepperoni    |\n",
       "|   Straw Hat    |    sausage     |      9.75      |      Amy       |    mushroom    |\n",
       "| New York Pizza |   pepperoni    |       8        |      Amy       |   pepperoni    |\n",
       "| New York Pizza |   pepperoni    |       8        |      Amy       |    mushroom    |\n",
       "| New York Pizza |     cheese     |       7        |      Amy       |   pepperoni    |\n",
       "| New York Pizza |     cheese     |       7        |      Amy       |    mushroom    |\n",
       "| New York Pizza |    supreme     |      8.5       |      Amy       |   pepperoni    |\n",
       "| New York Pizza |    supreme     |      8.5       |      Amy       |    mushroom    |\n",
       "| Chicago Pizza  |     cheese     |      7.75      |      Amy       |   pepperoni    |\n",
       "| Chicago Pizza  |     cheese     |      7.75      |      Amy       |    mushroom    |\n",
       "| Chicago Pizza  |    supreme     |      8.5       |      Amy       |   pepperoni    |\n",
       "| Chicago Pizza  |    supreme     |      8.5       |      Amy       |    mushroom    |\n",
       "--------------------------------------------------------------------------------------\n"
      ]
     },
     "execution_count": 5,
     "metadata": {},
     "output_type": "execute_result"
    }
   ],
   "source": [
    "r4 = r1 × r3"
   ]
  },
  {
   "cell_type": "code",
   "execution_count": 6,
   "metadata": {},
   "outputs": [
    {
     "data": {
      "text/plain": [
       "--------------------------------------------------------------------------------------\n",
       "|    pizzeria    |     pizza      |     price      |      name      |   eats_pizza   |\n",
       "--------------------------------------------------------------------------------------\n",
       "| Little Caesars |   pepperoni    |      9.75      |      Amy       |   pepperoni    |\n",
       "| Little Caesars |    mushroom    |      9.25      |      Amy       |    mushroom    |\n",
       "|   Straw Hat    |   pepperoni    |       8        |      Amy       |   pepperoni    |\n",
       "| New York Pizza |   pepperoni    |       8        |      Amy       |   pepperoni    |\n",
       "--------------------------------------------------------------------------------------\n"
      ]
     },
     "execution_count": 6,
     "metadata": {},
     "output_type": "execute_result"
    }
   ],
   "source": [
    "r5 = σ(r4, :pizza, ==, :eats_pizza)"
   ]
  },
  {
   "cell_type": "code",
   "execution_count": 7,
   "metadata": {},
   "outputs": [
    {
     "data": {
      "text/plain": [
       "------------------\n",
       "|    pizzeria    |\n",
       "------------------\n",
       "| Little Caesars |\n",
       "|   Straw Hat    |\n",
       "| New York Pizza |\n",
       "------------------\n"
      ]
     },
     "execution_count": 7,
     "metadata": {},
     "output_type": "execute_result"
    }
   ],
   "source": [
    "r6 = π(r5, :pizzeria)"
   ]
  },
  {
   "cell_type": "code",
   "execution_count": 8,
   "metadata": {},
   "outputs": [],
   "source": [
    "result = [t[1] for t in r6.tuples_values]\n",
    "@assert length(result) == 3\n",
    "@assert \"Little Caesars\" ∈ result\n",
    "@assert \"Straw Hat\" ∈ result\n",
    "@assert \"New York Pizza\" ∈ result"
   ]
  }
 ],
 "metadata": {
  "kernelspec": {
   "display_name": "Julia 1.1.0",
   "language": "julia",
   "name": "julia-1.1"
  },
  "language_info": {
   "file_extension": ".jl",
   "mimetype": "application/julia",
   "name": "julia",
   "version": "1.1.0"
  }
 },
 "nbformat": 4,
 "nbformat_minor": 2
}
