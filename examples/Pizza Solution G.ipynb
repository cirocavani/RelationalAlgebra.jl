{
 "cells": [
  {
   "cell_type": "markdown",
   "metadata": {},
   "source": [
    "Find the names of all people who frequent only pizzerias serving at least one pizza they eat."
   ]
  },
  {
   "cell_type": "code",
   "execution_count": 1,
   "metadata": {},
   "outputs": [
    {
     "name": "stdout",
     "output_type": "stream",
     "text": [
      "Person\n",
      "\n",
      "----------------------------------------------------\n",
      "|      name      |      age       |     gender     |\n",
      "----------------------------------------------------\n",
      "|      Amy       |       16       |     female     |\n",
      "|      Ben       |       21       |      male      |\n",
      "|      Cal       |       33       |      male      |\n",
      "|      Dan       |       13       |      male      |\n",
      "|      Eli       |       45       |      male      |\n",
      "|      Fay       |       21       |     female     |\n",
      "|      Gus       |       24       |      male      |\n",
      "|      Hil       |       30       |     female     |\n",
      "|      Ian       |       18       |      male      |\n",
      "----------------------------------------------------\n",
      "\n",
      "Frequents\n",
      "\n",
      "-----------------------------------\n",
      "|      name      |    pizzeria    |\n",
      "-----------------------------------\n",
      "|      Amy       |   Pizza Hut    |\n",
      "|      Ben       |   Pizza Hut    |\n",
      "|      Ben       | Chicago Pizza  |\n",
      "|      Cal       |   Straw Hat    |\n",
      "|      Cal       | New York Pizza |\n",
      "|      Dan       |   Straw Hat    |\n",
      "|      Dan       | New York Pizza |\n",
      "|      Eli       |   Straw Hat    |\n",
      "|      Eli       | Chicago Pizza  |\n",
      "|      Fay       |    Dominos     |\n",
      "|      Fay       | Little Caesars |\n",
      "|      Gus       | Chicago Pizza  |\n",
      "|      Gus       |   Pizza Hut    |\n",
      "|      Hil       |    Dominos     |\n",
      "|      Hil       |   Straw Hat    |\n",
      "|      Hil       |   Pizza Hut    |\n",
      "|      Ian       | New York Pizza |\n",
      "|      Ian       |   Straw Hat    |\n",
      "|      Ian       |    Dominos     |\n",
      "-----------------------------------\n",
      "\n",
      "Eats\n",
      "\n",
      "-----------------------------------\n",
      "|      name      |     pizza      |\n",
      "-----------------------------------\n",
      "|      Amy       |   pepperoni    |\n",
      "|      Amy       |    mushroom    |\n",
      "|      Ben       |   pepperoni    |\n",
      "|      Ben       |     cheese     |\n",
      "|      Cal       |    supreme     |\n",
      "|      Dan       |   pepperoni    |\n",
      "|      Dan       |     cheese     |\n",
      "|      Dan       |    sausage     |\n",
      "|      Dan       |    supreme     |\n",
      "|      Dan       |    mushroom    |\n",
      "|      Eli       |    supreme     |\n",
      "|      Eli       |     cheese     |\n",
      "|      Fay       |    mushroom    |\n",
      "|      Gus       |    mushroom    |\n",
      "|      Gus       |    supreme     |\n",
      "|      Gus       |     cheese     |\n",
      "|      Hil       |    supreme     |\n",
      "|      Hil       |     cheese     |\n",
      "|      Ian       |    supreme     |\n",
      "|      Ian       |   pepperoni    |\n",
      "-----------------------------------\n",
      "\n",
      "Serves\n",
      "\n",
      "----------------------------------------------------\n",
      "|    pizzeria    |     pizza      |     price      |\n",
      "----------------------------------------------------\n",
      "|   Pizza Hut    |   pepperoni    |       12       |\n",
      "|   Pizza Hut    |    sausage     |       12       |\n",
      "|   Pizza Hut    |     cheese     |       9        |\n",
      "|   Pizza Hut    |    supreme     |       12       |\n",
      "| Little Caesars |   pepperoni    |      9.75      |\n",
      "| Little Caesars |    sausage     |      9.5       |\n",
      "| Little Caesars |     cheese     |       7        |\n",
      "| Little Caesars |    mushroom    |      9.25      |\n",
      "|    Dominos     |     cheese     |      9.75      |\n",
      "|    Dominos     |    mushroom    |       11       |\n",
      "|   Straw Hat    |   pepperoni    |       8        |\n",
      "|   Straw Hat    |     cheese     |      9.25      |\n",
      "|   Straw Hat    |    sausage     |      9.75      |\n",
      "| New York Pizza |   pepperoni    |       8        |\n",
      "| New York Pizza |     cheese     |       7        |\n",
      "| New York Pizza |    supreme     |      8.5       |\n",
      "| Chicago Pizza  |     cheese     |      7.75      |\n",
      "| Chicago Pizza  |    supreme     |      8.5       |\n",
      "----------------------------------------------------\n",
      "\n"
     ]
    }
   ],
   "source": [
    "include(\"pizza_data.jl\")"
   ]
  },
  {
   "cell_type": "code",
   "execution_count": 2,
   "metadata": {},
   "outputs": [
    {
     "data": {
      "text/plain": [
       "---------------------------------------------------------------------\n",
       "|      name      |     pizza      |    pizzeria    |     price      |\n",
       "---------------------------------------------------------------------\n",
       "|      Amy       |   pepperoni    |   Pizza Hut    |       12       |\n",
       "|      Amy       |   pepperoni    | Little Caesars |      9.75      |\n",
       "|      Amy       |   pepperoni    |   Straw Hat    |       8        |\n",
       "|      Amy       |   pepperoni    | New York Pizza |       8        |\n",
       "|      Amy       |    mushroom    | Little Caesars |      9.25      |\n",
       "|      Amy       |    mushroom    |    Dominos     |       11       |\n",
       "|      Ben       |   pepperoni    |   Pizza Hut    |       12       |\n",
       "|      Ben       |   pepperoni    | Little Caesars |      9.75      |\n",
       "|      Ben       |   pepperoni    |   Straw Hat    |       8        |\n",
       "|      Ben       |   pepperoni    | New York Pizza |       8        |\n",
       "|      Ben       |     cheese     |   Pizza Hut    |       9        |\n",
       "|      Ben       |     cheese     | Little Caesars |       7        |\n",
       "|      Ben       |     cheese     |    Dominos     |      9.75      |\n",
       "|      Ben       |     cheese     |   Straw Hat    |      9.25      |\n",
       "|      Ben       |     cheese     | New York Pizza |       7        |\n",
       "|      Ben       |     cheese     | Chicago Pizza  |      7.75      |\n",
       "|      Cal       |    supreme     |   Pizza Hut    |       12       |\n",
       "|      Cal       |    supreme     | New York Pizza |      8.5       |\n",
       "|      Cal       |    supreme     | Chicago Pizza  |      8.5       |\n",
       "|      Dan       |   pepperoni    |   Pizza Hut    |       12       |\n",
       "|      Dan       |   pepperoni    | Little Caesars |      9.75      |\n",
       "|      Dan       |   pepperoni    |   Straw Hat    |       8        |\n",
       "|      Dan       |   pepperoni    | New York Pizza |       8        |\n",
       "|      Dan       |     cheese     |   Pizza Hut    |       9        |\n",
       "|      Dan       |     cheese     | Little Caesars |       7        |\n",
       "|      Dan       |     cheese     |    Dominos     |      9.75      |\n",
       "|      Dan       |     cheese     |   Straw Hat    |      9.25      |\n",
       "|      Dan       |     cheese     | New York Pizza |       7        |\n",
       "|      Dan       |     cheese     | Chicago Pizza  |      7.75      |\n",
       "|      Dan       |    sausage     |   Pizza Hut    |       12       |\n",
       "|      Dan       |    sausage     | Little Caesars |      9.5       |\n",
       "|      Dan       |    sausage     |   Straw Hat    |      9.75      |\n",
       "|      Dan       |    supreme     |   Pizza Hut    |       12       |\n",
       "|      Dan       |    supreme     | New York Pizza |      8.5       |\n",
       "|      Dan       |    supreme     | Chicago Pizza  |      8.5       |\n",
       "|      Dan       |    mushroom    | Little Caesars |      9.25      |\n",
       "|      Dan       |    mushroom    |    Dominos     |       11       |\n",
       "|      Eli       |    supreme     |   Pizza Hut    |       12       |\n",
       "|      Eli       |    supreme     | New York Pizza |      8.5       |\n",
       "|      Eli       |    supreme     | Chicago Pizza  |      8.5       |\n",
       "|      Eli       |     cheese     |   Pizza Hut    |       9        |\n",
       "|      Eli       |     cheese     | Little Caesars |       7        |\n",
       "|      Eli       |     cheese     |    Dominos     |      9.75      |\n",
       "|      Eli       |     cheese     |   Straw Hat    |      9.25      |\n",
       "|      Eli       |     cheese     | New York Pizza |       7        |\n",
       "|      Eli       |     cheese     | Chicago Pizza  |      7.75      |\n",
       "|      Fay       |    mushroom    | Little Caesars |      9.25      |\n",
       "|      Fay       |    mushroom    |    Dominos     |       11       |\n",
       "|      Gus       |    mushroom    | Little Caesars |      9.25      |\n",
       "|      Gus       |    mushroom    |    Dominos     |       11       |\n",
       "|      Gus       |    supreme     |   Pizza Hut    |       12       |\n",
       "|      Gus       |    supreme     | New York Pizza |      8.5       |\n",
       "|      Gus       |    supreme     | Chicago Pizza  |      8.5       |\n",
       "|      Gus       |     cheese     |   Pizza Hut    |       9        |\n",
       "|      Gus       |     cheese     | Little Caesars |       7        |\n",
       "|      Gus       |     cheese     |    Dominos     |      9.75      |\n",
       "|      Gus       |     cheese     |   Straw Hat    |      9.25      |\n",
       "|      Gus       |     cheese     | New York Pizza |       7        |\n",
       "|      Gus       |     cheese     | Chicago Pizza  |      7.75      |\n",
       "|      Hil       |    supreme     |   Pizza Hut    |       12       |\n",
       "|      Hil       |    supreme     | New York Pizza |      8.5       |\n",
       "|      Hil       |    supreme     | Chicago Pizza  |      8.5       |\n",
       "|      Hil       |     cheese     |   Pizza Hut    |       9        |\n",
       "|      Hil       |     cheese     | Little Caesars |       7        |\n",
       "|      Hil       |     cheese     |    Dominos     |      9.75      |\n",
       "|      Hil       |     cheese     |   Straw Hat    |      9.25      |\n",
       "|      Hil       |     cheese     | New York Pizza |       7        |\n",
       "|      Hil       |     cheese     | Chicago Pizza  |      7.75      |\n",
       "|      Ian       |    supreme     |   Pizza Hut    |       12       |\n",
       "|      Ian       |    supreme     | New York Pizza |      8.5       |\n",
       "|      Ian       |    supreme     | Chicago Pizza  |      8.5       |\n",
       "|      Ian       |   pepperoni    |   Pizza Hut    |       12       |\n",
       "|      Ian       |   pepperoni    | Little Caesars |      9.75      |\n",
       "|      Ian       |   pepperoni    |   Straw Hat    |       8        |\n",
       "|      Ian       |   pepperoni    | New York Pizza |       8        |\n",
       "---------------------------------------------------------------------\n"
      ]
     },
     "execution_count": 2,
     "metadata": {},
     "output_type": "execute_result"
    }
   ],
   "source": [
    "r1 = Eats ⨝ Serves"
   ]
  },
  {
   "cell_type": "code",
   "execution_count": 3,
   "metadata": {},
   "outputs": [
    {
     "data": {
      "text/plain": [
       "-----------------------------------\n",
       "|      name      |    pizzeria    |\n",
       "-----------------------------------\n",
       "|      Amy       |   Pizza Hut    |\n",
       "|      Amy       | Little Caesars |\n",
       "|      Amy       |   Straw Hat    |\n",
       "|      Amy       | New York Pizza |\n",
       "|      Amy       |    Dominos     |\n",
       "|      Ben       |   Pizza Hut    |\n",
       "|      Ben       | Little Caesars |\n",
       "|      Ben       |   Straw Hat    |\n",
       "|      Ben       | New York Pizza |\n",
       "|      Ben       |    Dominos     |\n",
       "|      Ben       | Chicago Pizza  |\n",
       "|      Cal       |   Pizza Hut    |\n",
       "|      Cal       | New York Pizza |\n",
       "|      Cal       | Chicago Pizza  |\n",
       "|      Dan       |   Pizza Hut    |\n",
       "|      Dan       | Little Caesars |\n",
       "|      Dan       |   Straw Hat    |\n",
       "|      Dan       | New York Pizza |\n",
       "|      Dan       |    Dominos     |\n",
       "|      Dan       | Chicago Pizza  |\n",
       "|      Eli       |   Pizza Hut    |\n",
       "|      Eli       | New York Pizza |\n",
       "|      Eli       | Chicago Pizza  |\n",
       "|      Eli       | Little Caesars |\n",
       "|      Eli       |    Dominos     |\n",
       "|      Eli       |   Straw Hat    |\n",
       "|      Fay       | Little Caesars |\n",
       "|      Fay       |    Dominos     |\n",
       "|      Gus       | Little Caesars |\n",
       "|      Gus       |    Dominos     |\n",
       "|      Gus       |   Pizza Hut    |\n",
       "|      Gus       | New York Pizza |\n",
       "|      Gus       | Chicago Pizza  |\n",
       "|      Gus       |   Straw Hat    |\n",
       "|      Hil       |   Pizza Hut    |\n",
       "|      Hil       | New York Pizza |\n",
       "|      Hil       | Chicago Pizza  |\n",
       "|      Hil       | Little Caesars |\n",
       "|      Hil       |    Dominos     |\n",
       "|      Hil       |   Straw Hat    |\n",
       "|      Ian       |   Pizza Hut    |\n",
       "|      Ian       | New York Pizza |\n",
       "|      Ian       | Chicago Pizza  |\n",
       "|      Ian       | Little Caesars |\n",
       "|      Ian       |   Straw Hat    |\n",
       "-----------------------------------\n"
      ]
     },
     "execution_count": 3,
     "metadata": {},
     "output_type": "execute_result"
    }
   ],
   "source": [
    "r2 = π(r1, :name, :pizzeria)"
   ]
  },
  {
   "cell_type": "code",
   "execution_count": 4,
   "metadata": {},
   "outputs": [
    {
     "data": {
      "text/plain": [
       "-----------------------------------\n",
       "|      name      |    pizzeria    |\n",
       "-----------------------------------\n",
       "|      Cal       |   Straw Hat    |\n",
       "|      Ian       |    Dominos     |\n",
       "-----------------------------------\n"
      ]
     },
     "execution_count": 4,
     "metadata": {},
     "output_type": "execute_result"
    }
   ],
   "source": [
    "r3 = Frequents - r2"
   ]
  },
  {
   "cell_type": "code",
   "execution_count": 5,
   "metadata": {},
   "outputs": [
    {
     "data": {
      "text/plain": [
       "------------------\n",
       "|      name      |\n",
       "------------------\n",
       "|      Cal       |\n",
       "|      Ian       |\n",
       "------------------\n"
      ]
     },
     "execution_count": 5,
     "metadata": {},
     "output_type": "execute_result"
    }
   ],
   "source": [
    "r4 = π(r3, :name)"
   ]
  },
  {
   "cell_type": "code",
   "execution_count": 6,
   "metadata": {},
   "outputs": [
    {
     "data": {
      "text/plain": [
       "------------------\n",
       "|      name      |\n",
       "------------------\n",
       "|      Amy       |\n",
       "|      Ben       |\n",
       "|      Cal       |\n",
       "|      Dan       |\n",
       "|      Eli       |\n",
       "|      Fay       |\n",
       "|      Gus       |\n",
       "|      Hil       |\n",
       "|      Ian       |\n",
       "------------------\n"
      ]
     },
     "execution_count": 6,
     "metadata": {},
     "output_type": "execute_result"
    }
   ],
   "source": [
    "r5 = π(Person, :name)"
   ]
  },
  {
   "cell_type": "code",
   "execution_count": 7,
   "metadata": {},
   "outputs": [
    {
     "data": {
      "text/plain": [
       "------------------\n",
       "|      name      |\n",
       "------------------\n",
       "|      Amy       |\n",
       "|      Ben       |\n",
       "|      Dan       |\n",
       "|      Eli       |\n",
       "|      Fay       |\n",
       "|      Gus       |\n",
       "|      Hil       |\n",
       "------------------\n"
      ]
     },
     "execution_count": 7,
     "metadata": {},
     "output_type": "execute_result"
    }
   ],
   "source": [
    "r6 = r5 - r4"
   ]
  },
  {
   "cell_type": "code",
   "execution_count": 8,
   "metadata": {},
   "outputs": [],
   "source": [
    "result = [t[1] for t in r6.tuples_values]\n",
    "@assert length(result) == 7\n",
    "@assert \"Amy\" ∈ result\n",
    "@assert \"Ben\" ∈ result\n",
    "@assert \"Dan\" ∈ result\n",
    "@assert \"Eli\" ∈ result\n",
    "@assert \"Fay\" ∈ result\n",
    "@assert \"Gus\" ∈ result\n",
    "@assert \"Hil\" ∈ result"
   ]
  }
 ],
 "metadata": {
  "kernelspec": {
   "display_name": "Julia 1.1.0",
   "language": "julia",
   "name": "julia-1.1"
  },
  "language_info": {
   "file_extension": ".jl",
   "mimetype": "application/julia",
   "name": "julia",
   "version": "1.1.0"
  }
 },
 "nbformat": 4,
 "nbformat_minor": 2
}
