{
 "cells": [
  {
   "cell_type": "markdown",
   "metadata": {},
   "source": [
    "Find all pizzerias that are frequented by only females or only males."
   ]
  },
  {
   "cell_type": "code",
   "execution_count": 1,
   "metadata": {},
   "outputs": [
    {
     "name": "stdout",
     "output_type": "stream",
     "text": [
      "Person\n",
      "\n",
      "----------------------------------------------------\n",
      "|      name      |      age       |     gender     |\n",
      "----------------------------------------------------\n",
      "|      Amy       |       16       |     female     |\n",
      "|      Ben       |       21       |      male      |\n",
      "|      Cal       |       33       |      male      |\n",
      "|      Dan       |       13       |      male      |\n",
      "|      Eli       |       45       |      male      |\n",
      "|      Fay       |       21       |     female     |\n",
      "|      Gus       |       24       |      male      |\n",
      "|      Hil       |       30       |     female     |\n",
      "|      Ian       |       18       |      male      |\n",
      "----------------------------------------------------\n",
      "\n",
      "Frequents\n",
      "\n",
      "-----------------------------------\n",
      "|      name      |    pizzeria    |\n",
      "-----------------------------------\n",
      "|      Amy       |   Pizza Hut    |\n",
      "|      Ben       |   Pizza Hut    |\n",
      "|      Ben       | Chicago Pizza  |\n",
      "|      Cal       |   Straw Hat    |\n",
      "|      Cal       | New York Pizza |\n",
      "|      Dan       |   Straw Hat    |\n",
      "|      Dan       | New York Pizza |\n",
      "|      Eli       |   Straw Hat    |\n",
      "|      Eli       | Chicago Pizza  |\n",
      "|      Fay       |    Dominos     |\n",
      "|      Fay       | Little Caesars |\n",
      "|      Gus       | Chicago Pizza  |\n",
      "|      Gus       |   Pizza Hut    |\n",
      "|      Hil       |    Dominos     |\n",
      "|      Hil       |   Straw Hat    |\n",
      "|      Hil       |   Pizza Hut    |\n",
      "|      Ian       | New York Pizza |\n",
      "|      Ian       |   Straw Hat    |\n",
      "|      Ian       |    Dominos     |\n",
      "-----------------------------------\n",
      "\n",
      "Eats\n",
      "\n",
      "-----------------------------------\n",
      "|      name      |     pizza      |\n",
      "-----------------------------------\n",
      "|      Amy       |   pepperoni    |\n",
      "|      Amy       |    mushroom    |\n",
      "|      Ben       |   pepperoni    |\n",
      "|      Ben       |     cheese     |\n",
      "|      Cal       |    supreme     |\n",
      "|      Dan       |   pepperoni    |\n",
      "|      Dan       |     cheese     |\n",
      "|      Dan       |    sausage     |\n",
      "|      Dan       |    supreme     |\n",
      "|      Dan       |    mushroom    |\n",
      "|      Eli       |    supreme     |\n",
      "|      Eli       |     cheese     |\n",
      "|      Fay       |    mushroom    |\n",
      "|      Gus       |    mushroom    |\n",
      "|      Gus       |    supreme     |\n",
      "|      Gus       |     cheese     |\n",
      "|      Hil       |    supreme     |\n",
      "|      Hil       |     cheese     |\n",
      "|      Ian       |    supreme     |\n",
      "|      Ian       |   pepperoni    |\n",
      "-----------------------------------\n",
      "\n",
      "Serves\n",
      "\n",
      "----------------------------------------------------\n",
      "|    pizzeria    |     pizza      |     price      |\n",
      "----------------------------------------------------\n",
      "|   Pizza Hut    |   pepperoni    |       12       |\n",
      "|   Pizza Hut    |    sausage     |       12       |\n",
      "|   Pizza Hut    |     cheese     |       9        |\n",
      "|   Pizza Hut    |    supreme     |       12       |\n",
      "| Little Caesars |   pepperoni    |      9.75      |\n",
      "| Little Caesars |    sausage     |      9.5       |\n",
      "| Little Caesars |     cheese     |       7        |\n",
      "| Little Caesars |    mushroom    |      9.25      |\n",
      "|    Dominos     |     cheese     |      9.75      |\n",
      "|    Dominos     |    mushroom    |       11       |\n",
      "|   Straw Hat    |   pepperoni    |       8        |\n",
      "|   Straw Hat    |     cheese     |      9.25      |\n",
      "|   Straw Hat    |    sausage     |      9.75      |\n",
      "| New York Pizza |   pepperoni    |       8        |\n",
      "| New York Pizza |     cheese     |       7        |\n",
      "| New York Pizza |    supreme     |      8.5       |\n",
      "| Chicago Pizza  |     cheese     |      7.75      |\n",
      "| Chicago Pizza  |    supreme     |      8.5       |\n",
      "----------------------------------------------------\n",
      "\n"
     ]
    }
   ],
   "source": [
    "include(\"pizza_data.jl\")"
   ]
  },
  {
   "cell_type": "code",
   "execution_count": 2,
   "metadata": {},
   "outputs": [
    {
     "data": {
      "text/plain": [
       "----------------------------------------------------\n",
       "|      name      |      age       |     gender     |\n",
       "----------------------------------------------------\n",
       "|      Amy       |       16       |     female     |\n",
       "|      Fay       |       21       |     female     |\n",
       "|      Hil       |       30       |     female     |\n",
       "----------------------------------------------------\n"
      ]
     },
     "execution_count": 2,
     "metadata": {},
     "output_type": "execute_result"
    }
   ],
   "source": [
    "r1 = σ(Person, :gender, ==, \"female\")"
   ]
  },
  {
   "cell_type": "code",
   "execution_count": 3,
   "metadata": {},
   "outputs": [
    {
     "data": {
      "text/plain": [
       "---------------------------------------------------------------------\n",
       "|      name      |      age       |     gender     |    pizzeria    |\n",
       "---------------------------------------------------------------------\n",
       "|      Amy       |       16       |     female     |   Pizza Hut    |\n",
       "|      Fay       |       21       |     female     |    Dominos     |\n",
       "|      Fay       |       21       |     female     | Little Caesars |\n",
       "|      Hil       |       30       |     female     |    Dominos     |\n",
       "|      Hil       |       30       |     female     |   Straw Hat    |\n",
       "|      Hil       |       30       |     female     |   Pizza Hut    |\n",
       "---------------------------------------------------------------------\n"
      ]
     },
     "execution_count": 3,
     "metadata": {},
     "output_type": "execute_result"
    }
   ],
   "source": [
    "r2 = r1 ⨝ Frequents"
   ]
  },
  {
   "cell_type": "code",
   "execution_count": 4,
   "metadata": {},
   "outputs": [
    {
     "data": {
      "text/plain": [
       "------------------\n",
       "|    pizzeria    |\n",
       "------------------\n",
       "|   Pizza Hut    |\n",
       "|    Dominos     |\n",
       "| Little Caesars |\n",
       "|   Straw Hat    |\n",
       "------------------\n"
      ]
     },
     "execution_count": 4,
     "metadata": {},
     "output_type": "execute_result"
    }
   ],
   "source": [
    "r3 = π(r2, :pizzeria)"
   ]
  },
  {
   "cell_type": "code",
   "execution_count": 5,
   "metadata": {},
   "outputs": [
    {
     "data": {
      "text/plain": [
       "----------------------------------------------------\n",
       "|      name      |      age       |     gender     |\n",
       "----------------------------------------------------\n",
       "|      Ben       |       21       |      male      |\n",
       "|      Cal       |       33       |      male      |\n",
       "|      Dan       |       13       |      male      |\n",
       "|      Eli       |       45       |      male      |\n",
       "|      Gus       |       24       |      male      |\n",
       "|      Ian       |       18       |      male      |\n",
       "----------------------------------------------------\n"
      ]
     },
     "execution_count": 5,
     "metadata": {},
     "output_type": "execute_result"
    }
   ],
   "source": [
    "r4 = σ(Person, :gender, ==, \"male\")"
   ]
  },
  {
   "cell_type": "code",
   "execution_count": 6,
   "metadata": {},
   "outputs": [
    {
     "data": {
      "text/plain": [
       "---------------------------------------------------------------------\n",
       "|      name      |      age       |     gender     |    pizzeria    |\n",
       "---------------------------------------------------------------------\n",
       "|      Ben       |       21       |      male      |   Pizza Hut    |\n",
       "|      Ben       |       21       |      male      | Chicago Pizza  |\n",
       "|      Cal       |       33       |      male      |   Straw Hat    |\n",
       "|      Cal       |       33       |      male      | New York Pizza |\n",
       "|      Dan       |       13       |      male      |   Straw Hat    |\n",
       "|      Dan       |       13       |      male      | New York Pizza |\n",
       "|      Eli       |       45       |      male      |   Straw Hat    |\n",
       "|      Eli       |       45       |      male      | Chicago Pizza  |\n",
       "|      Gus       |       24       |      male      | Chicago Pizza  |\n",
       "|      Gus       |       24       |      male      |   Pizza Hut    |\n",
       "|      Ian       |       18       |      male      | New York Pizza |\n",
       "|      Ian       |       18       |      male      |   Straw Hat    |\n",
       "|      Ian       |       18       |      male      |    Dominos     |\n",
       "---------------------------------------------------------------------\n"
      ]
     },
     "execution_count": 6,
     "metadata": {},
     "output_type": "execute_result"
    }
   ],
   "source": [
    "r5 = r4 ⨝ Frequents"
   ]
  },
  {
   "cell_type": "code",
   "execution_count": 7,
   "metadata": {},
   "outputs": [
    {
     "data": {
      "text/plain": [
       "------------------\n",
       "|    pizzeria    |\n",
       "------------------\n",
       "|   Pizza Hut    |\n",
       "| Chicago Pizza  |\n",
       "|   Straw Hat    |\n",
       "| New York Pizza |\n",
       "|    Dominos     |\n",
       "------------------\n"
      ]
     },
     "execution_count": 7,
     "metadata": {},
     "output_type": "execute_result"
    }
   ],
   "source": [
    "r6 = π(r5, :pizzeria)"
   ]
  },
  {
   "cell_type": "code",
   "execution_count": 8,
   "metadata": {},
   "outputs": [
    {
     "data": {
      "text/plain": [
       "------------------\n",
       "|    pizzeria    |\n",
       "------------------\n",
       "|   Pizza Hut    |\n",
       "|    Dominos     |\n",
       "| Little Caesars |\n",
       "|   Straw Hat    |\n",
       "| Chicago Pizza  |\n",
       "| New York Pizza |\n",
       "------------------\n"
      ]
     },
     "execution_count": 8,
     "metadata": {},
     "output_type": "execute_result"
    }
   ],
   "source": [
    "r7 = r3 ∪ r6"
   ]
  },
  {
   "cell_type": "code",
   "execution_count": 9,
   "metadata": {},
   "outputs": [
    {
     "data": {
      "text/plain": [
       "------------------\n",
       "|    pizzeria    |\n",
       "------------------\n",
       "|   Pizza Hut    |\n",
       "|    Dominos     |\n",
       "|   Straw Hat    |\n",
       "------------------\n"
      ]
     },
     "execution_count": 9,
     "metadata": {},
     "output_type": "execute_result"
    }
   ],
   "source": [
    "r8 = r3 ∩ r6"
   ]
  },
  {
   "cell_type": "code",
   "execution_count": 10,
   "metadata": {},
   "outputs": [
    {
     "data": {
      "text/plain": [
       "------------------\n",
       "|    pizzeria    |\n",
       "------------------\n",
       "| Little Caesars |\n",
       "| Chicago Pizza  |\n",
       "| New York Pizza |\n",
       "------------------\n"
      ]
     },
     "execution_count": 10,
     "metadata": {},
     "output_type": "execute_result"
    }
   ],
   "source": [
    "r9 = r7 - r8"
   ]
  },
  {
   "cell_type": "code",
   "execution_count": 11,
   "metadata": {},
   "outputs": [],
   "source": [
    "result = [t[1] for t in r9.tuples_values]\n",
    "@assert length(result) == 3\n",
    "@assert \"Little Caesars\" ∈ result\n",
    "@assert \"Chicago Pizza\" ∈ result\n",
    "@assert \"New York Pizza\" ∈ result"
   ]
  }
 ],
 "metadata": {
  "kernelspec": {
   "display_name": "Julia 1.1.0",
   "language": "julia",
   "name": "julia-1.1"
  },
  "language_info": {
   "file_extension": ".jl",
   "mimetype": "application/julia",
   "name": "julia",
   "version": "1.1.0"
  }
 },
 "nbformat": 4,
 "nbformat_minor": 2
}
