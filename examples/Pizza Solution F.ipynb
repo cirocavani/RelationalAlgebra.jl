{
 "cells": [
  {
   "cell_type": "markdown",
   "metadata": {},
   "source": [
    "For each person, find all pizzas the person eats that are not served by any pizzeria the person frequents.\n",
    "\n",
    "Return all such person (name) / pizza pairs."
   ]
  },
  {
   "cell_type": "code",
   "execution_count": 1,
   "metadata": {},
   "outputs": [
    {
     "name": "stdout",
     "output_type": "stream",
     "text": [
      "Person\n",
      "\n",
      "----------------------------------------------------\n",
      "|      name      |      age       |     gender     |\n",
      "----------------------------------------------------\n",
      "|      Amy       |       16       |     female     |\n",
      "|      Ben       |       21       |      male      |\n",
      "|      Cal       |       33       |      male      |\n",
      "|      Dan       |       13       |      male      |\n",
      "|      Eli       |       45       |      male      |\n",
      "|      Fay       |       21       |     female     |\n",
      "|      Gus       |       24       |      male      |\n",
      "|      Hil       |       30       |     female     |\n",
      "|      Ian       |       18       |      male      |\n",
      "----------------------------------------------------\n",
      "\n",
      "Frequents\n",
      "\n",
      "-----------------------------------\n",
      "|      name      |    pizzeria    |\n",
      "-----------------------------------\n",
      "|      Amy       |   Pizza Hut    |\n",
      "|      Ben       |   Pizza Hut    |\n",
      "|      Ben       | Chicago Pizza  |\n",
      "|      Cal       |   Straw Hat    |\n",
      "|      Cal       | New York Pizza |\n",
      "|      Dan       |   Straw Hat    |\n",
      "|      Dan       | New York Pizza |\n",
      "|      Eli       |   Straw Hat    |\n",
      "|      Eli       | Chicago Pizza  |\n",
      "|      Fay       |    Dominos     |\n",
      "|      Fay       | Little Caesars |\n",
      "|      Gus       | Chicago Pizza  |\n",
      "|      Gus       |   Pizza Hut    |\n",
      "|      Hil       |    Dominos     |\n",
      "|      Hil       |   Straw Hat    |\n",
      "|      Hil       |   Pizza Hut    |\n",
      "|      Ian       | New York Pizza |\n",
      "|      Ian       |   Straw Hat    |\n",
      "|      Ian       |    Dominos     |\n",
      "-----------------------------------\n",
      "\n",
      "Eats\n",
      "\n",
      "-----------------------------------\n",
      "|      name      |     pizza      |\n",
      "-----------------------------------\n",
      "|      Amy       |   pepperoni    |\n",
      "|      Amy       |    mushroom    |\n",
      "|      Ben       |   pepperoni    |\n",
      "|      Ben       |     cheese     |\n",
      "|      Cal       |    supreme     |\n",
      "|      Dan       |   pepperoni    |\n",
      "|      Dan       |     cheese     |\n",
      "|      Dan       |    sausage     |\n",
      "|      Dan       |    supreme     |\n",
      "|      Dan       |    mushroom    |\n",
      "|      Eli       |    supreme     |\n",
      "|      Eli       |     cheese     |\n",
      "|      Fay       |    mushroom    |\n",
      "|      Gus       |    mushroom    |\n",
      "|      Gus       |    supreme     |\n",
      "|      Gus       |     cheese     |\n",
      "|      Hil       |    supreme     |\n",
      "|      Hil       |     cheese     |\n",
      "|      Ian       |    supreme     |\n",
      "|      Ian       |   pepperoni    |\n",
      "-----------------------------------\n",
      "\n",
      "Serves\n",
      "\n",
      "----------------------------------------------------\n",
      "|    pizzeria    |     pizza      |     price      |\n",
      "----------------------------------------------------\n",
      "|   Pizza Hut    |   pepperoni    |       12       |\n",
      "|   Pizza Hut    |    sausage     |       12       |\n",
      "|   Pizza Hut    |     cheese     |       9        |\n",
      "|   Pizza Hut    |    supreme     |       12       |\n",
      "| Little Caesars |   pepperoni    |      9.75      |\n",
      "| Little Caesars |    sausage     |      9.5       |\n",
      "| Little Caesars |     cheese     |       7        |\n",
      "| Little Caesars |    mushroom    |      9.25      |\n",
      "|    Dominos     |     cheese     |      9.75      |\n",
      "|    Dominos     |    mushroom    |       11       |\n",
      "|   Straw Hat    |   pepperoni    |       8        |\n",
      "|   Straw Hat    |     cheese     |      9.25      |\n",
      "|   Straw Hat    |    sausage     |      9.75      |\n",
      "| New York Pizza |   pepperoni    |       8        |\n",
      "| New York Pizza |     cheese     |       7        |\n",
      "| New York Pizza |    supreme     |      8.5       |\n",
      "| Chicago Pizza  |     cheese     |      7.75      |\n",
      "| Chicago Pizza  |    supreme     |      8.5       |\n",
      "----------------------------------------------------\n",
      "\n"
     ]
    }
   ],
   "source": [
    "include(\"pizza_data.jl\")"
   ]
  },
  {
   "cell_type": "code",
   "execution_count": 2,
   "metadata": {},
   "outputs": [
    {
     "data": {
      "text/plain": [
       "---------------------------------------------------------------------\n",
       "|      name      |      age       |     gender     |    pizzeria    |\n",
       "---------------------------------------------------------------------\n",
       "|      Amy       |       16       |     female     |   Pizza Hut    |\n",
       "|      Ben       |       21       |      male      |   Pizza Hut    |\n",
       "|      Ben       |       21       |      male      | Chicago Pizza  |\n",
       "|      Cal       |       33       |      male      |   Straw Hat    |\n",
       "|      Cal       |       33       |      male      | New York Pizza |\n",
       "|      Dan       |       13       |      male      |   Straw Hat    |\n",
       "|      Dan       |       13       |      male      | New York Pizza |\n",
       "|      Eli       |       45       |      male      |   Straw Hat    |\n",
       "|      Eli       |       45       |      male      | Chicago Pizza  |\n",
       "|      Fay       |       21       |     female     |    Dominos     |\n",
       "|      Fay       |       21       |     female     | Little Caesars |\n",
       "|      Gus       |       24       |      male      | Chicago Pizza  |\n",
       "|      Gus       |       24       |      male      |   Pizza Hut    |\n",
       "|      Hil       |       30       |     female     |    Dominos     |\n",
       "|      Hil       |       30       |     female     |   Straw Hat    |\n",
       "|      Hil       |       30       |     female     |   Pizza Hut    |\n",
       "|      Ian       |       18       |      male      | New York Pizza |\n",
       "|      Ian       |       18       |      male      |   Straw Hat    |\n",
       "|      Ian       |       18       |      male      |    Dominos     |\n",
       "---------------------------------------------------------------------\n"
      ]
     },
     "execution_count": 2,
     "metadata": {},
     "output_type": "execute_result"
    }
   ],
   "source": [
    "r1 = Person ⨝ Frequents"
   ]
  },
  {
   "cell_type": "code",
   "execution_count": 3,
   "metadata": {},
   "outputs": [
    {
     "data": {
      "text/plain": [
       "-------------------------------------------------------------------------------------------------------\n",
       "|      name      |      age       |     gender     |    pizzeria    |     pizza      |     price      |\n",
       "-------------------------------------------------------------------------------------------------------\n",
       "|      Amy       |       16       |     female     |   Pizza Hut    |   pepperoni    |       12       |\n",
       "|      Amy       |       16       |     female     |   Pizza Hut    |    sausage     |       12       |\n",
       "|      Amy       |       16       |     female     |   Pizza Hut    |     cheese     |       9        |\n",
       "|      Amy       |       16       |     female     |   Pizza Hut    |    supreme     |       12       |\n",
       "|      Ben       |       21       |      male      |   Pizza Hut    |   pepperoni    |       12       |\n",
       "|      Ben       |       21       |      male      |   Pizza Hut    |    sausage     |       12       |\n",
       "|      Ben       |       21       |      male      |   Pizza Hut    |     cheese     |       9        |\n",
       "|      Ben       |       21       |      male      |   Pizza Hut    |    supreme     |       12       |\n",
       "|      Ben       |       21       |      male      | Chicago Pizza  |     cheese     |      7.75      |\n",
       "|      Ben       |       21       |      male      | Chicago Pizza  |    supreme     |      8.5       |\n",
       "|      Cal       |       33       |      male      |   Straw Hat    |   pepperoni    |       8        |\n",
       "|      Cal       |       33       |      male      |   Straw Hat    |     cheese     |      9.25      |\n",
       "|      Cal       |       33       |      male      |   Straw Hat    |    sausage     |      9.75      |\n",
       "|      Cal       |       33       |      male      | New York Pizza |   pepperoni    |       8        |\n",
       "|      Cal       |       33       |      male      | New York Pizza |     cheese     |       7        |\n",
       "|      Cal       |       33       |      male      | New York Pizza |    supreme     |      8.5       |\n",
       "|      Dan       |       13       |      male      |   Straw Hat    |   pepperoni    |       8        |\n",
       "|      Dan       |       13       |      male      |   Straw Hat    |     cheese     |      9.25      |\n",
       "|      Dan       |       13       |      male      |   Straw Hat    |    sausage     |      9.75      |\n",
       "|      Dan       |       13       |      male      | New York Pizza |   pepperoni    |       8        |\n",
       "|      Dan       |       13       |      male      | New York Pizza |     cheese     |       7        |\n",
       "|      Dan       |       13       |      male      | New York Pizza |    supreme     |      8.5       |\n",
       "|      Eli       |       45       |      male      |   Straw Hat    |   pepperoni    |       8        |\n",
       "|      Eli       |       45       |      male      |   Straw Hat    |     cheese     |      9.25      |\n",
       "|      Eli       |       45       |      male      |   Straw Hat    |    sausage     |      9.75      |\n",
       "|      Eli       |       45       |      male      | Chicago Pizza  |     cheese     |      7.75      |\n",
       "|      Eli       |       45       |      male      | Chicago Pizza  |    supreme     |      8.5       |\n",
       "|      Fay       |       21       |     female     |    Dominos     |     cheese     |      9.75      |\n",
       "|      Fay       |       21       |     female     |    Dominos     |    mushroom    |       11       |\n",
       "|      Fay       |       21       |     female     | Little Caesars |   pepperoni    |      9.75      |\n",
       "|      Fay       |       21       |     female     | Little Caesars |    sausage     |      9.5       |\n",
       "|      Fay       |       21       |     female     | Little Caesars |     cheese     |       7        |\n",
       "|      Fay       |       21       |     female     | Little Caesars |    mushroom    |      9.25      |\n",
       "|      Gus       |       24       |      male      | Chicago Pizza  |     cheese     |      7.75      |\n",
       "|      Gus       |       24       |      male      | Chicago Pizza  |    supreme     |      8.5       |\n",
       "|      Gus       |       24       |      male      |   Pizza Hut    |   pepperoni    |       12       |\n",
       "|      Gus       |       24       |      male      |   Pizza Hut    |    sausage     |       12       |\n",
       "|      Gus       |       24       |      male      |   Pizza Hut    |     cheese     |       9        |\n",
       "|      Gus       |       24       |      male      |   Pizza Hut    |    supreme     |       12       |\n",
       "|      Hil       |       30       |     female     |    Dominos     |     cheese     |      9.75      |\n",
       "|      Hil       |       30       |     female     |    Dominos     |    mushroom    |       11       |\n",
       "|      Hil       |       30       |     female     |   Straw Hat    |   pepperoni    |       8        |\n",
       "|      Hil       |       30       |     female     |   Straw Hat    |     cheese     |      9.25      |\n",
       "|      Hil       |       30       |     female     |   Straw Hat    |    sausage     |      9.75      |\n",
       "|      Hil       |       30       |     female     |   Pizza Hut    |   pepperoni    |       12       |\n",
       "|      Hil       |       30       |     female     |   Pizza Hut    |    sausage     |       12       |\n",
       "|      Hil       |       30       |     female     |   Pizza Hut    |     cheese     |       9        |\n",
       "|      Hil       |       30       |     female     |   Pizza Hut    |    supreme     |       12       |\n",
       "|      Ian       |       18       |      male      | New York Pizza |   pepperoni    |       8        |\n",
       "|      Ian       |       18       |      male      | New York Pizza |     cheese     |       7        |\n",
       "|      Ian       |       18       |      male      | New York Pizza |    supreme     |      8.5       |\n",
       "|      Ian       |       18       |      male      |   Straw Hat    |   pepperoni    |       8        |\n",
       "|      Ian       |       18       |      male      |   Straw Hat    |     cheese     |      9.25      |\n",
       "|      Ian       |       18       |      male      |   Straw Hat    |    sausage     |      9.75      |\n",
       "|      Ian       |       18       |      male      |    Dominos     |     cheese     |      9.75      |\n",
       "|      Ian       |       18       |      male      |    Dominos     |    mushroom    |       11       |\n",
       "-------------------------------------------------------------------------------------------------------\n"
      ]
     },
     "execution_count": 3,
     "metadata": {},
     "output_type": "execute_result"
    }
   ],
   "source": [
    "r2 = r1 ⨝ Serves"
   ]
  },
  {
   "cell_type": "code",
   "execution_count": 4,
   "metadata": {},
   "outputs": [
    {
     "data": {
      "text/plain": [
       "-----------------------------------\n",
       "|      name      |     pizza      |\n",
       "-----------------------------------\n",
       "|      Amy       |   pepperoni    |\n",
       "|      Amy       |    sausage     |\n",
       "|      Amy       |     cheese     |\n",
       "|      Amy       |    supreme     |\n",
       "|      Ben       |   pepperoni    |\n",
       "|      Ben       |    sausage     |\n",
       "|      Ben       |     cheese     |\n",
       "|      Ben       |    supreme     |\n",
       "|      Cal       |   pepperoni    |\n",
       "|      Cal       |     cheese     |\n",
       "|      Cal       |    sausage     |\n",
       "|      Cal       |    supreme     |\n",
       "|      Dan       |   pepperoni    |\n",
       "|      Dan       |     cheese     |\n",
       "|      Dan       |    sausage     |\n",
       "|      Dan       |    supreme     |\n",
       "|      Eli       |   pepperoni    |\n",
       "|      Eli       |     cheese     |\n",
       "|      Eli       |    sausage     |\n",
       "|      Eli       |    supreme     |\n",
       "|      Fay       |     cheese     |\n",
       "|      Fay       |    mushroom    |\n",
       "|      Fay       |   pepperoni    |\n",
       "|      Fay       |    sausage     |\n",
       "|      Gus       |     cheese     |\n",
       "|      Gus       |    supreme     |\n",
       "|      Gus       |   pepperoni    |\n",
       "|      Gus       |    sausage     |\n",
       "|      Hil       |     cheese     |\n",
       "|      Hil       |    mushroom    |\n",
       "|      Hil       |   pepperoni    |\n",
       "|      Hil       |    sausage     |\n",
       "|      Hil       |    supreme     |\n",
       "|      Ian       |   pepperoni    |\n",
       "|      Ian       |     cheese     |\n",
       "|      Ian       |    supreme     |\n",
       "|      Ian       |    sausage     |\n",
       "|      Ian       |    mushroom    |\n",
       "-----------------------------------\n"
      ]
     },
     "execution_count": 4,
     "metadata": {},
     "output_type": "execute_result"
    }
   ],
   "source": [
    "r3 = π(r2, :name, :pizza)"
   ]
  },
  {
   "cell_type": "code",
   "execution_count": 5,
   "metadata": {},
   "outputs": [
    {
     "data": {
      "text/plain": [
       "-----------------------------------\n",
       "|      name      |     pizza      |\n",
       "-----------------------------------\n",
       "|      Amy       |    mushroom    |\n",
       "|      Dan       |    mushroom    |\n",
       "|      Gus       |    mushroom    |\n",
       "-----------------------------------\n"
      ]
     },
     "execution_count": 5,
     "metadata": {},
     "output_type": "execute_result"
    }
   ],
   "source": [
    "r4 = Eats - r3"
   ]
  },
  {
   "cell_type": "code",
   "execution_count": 6,
   "metadata": {},
   "outputs": [],
   "source": [
    "result = r4.tuples_values\n",
    "@assert length(result) == 3\n",
    "@assert (\"Amy\", \"mushroom\") ∈ result\n",
    "@assert (\"Dan\", \"mushroom\") ∈ result\n",
    "@assert (\"Gus\", \"mushroom\") ∈ result"
   ]
  }
 ],
 "metadata": {
  "kernelspec": {
   "display_name": "Julia 1.1.0",
   "language": "julia",
   "name": "julia-1.1"
  },
  "language_info": {
   "file_extension": ".jl",
   "mimetype": "application/julia",
   "name": "julia",
   "version": "1.1.0"
  }
 },
 "nbformat": 4,
 "nbformat_minor": 2
}
