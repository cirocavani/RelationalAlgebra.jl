{
 "cells": [
  {
   "cell_type": "markdown",
   "metadata": {},
   "source": [
    "Find the names of all females who eat either mushroom or pepperoni pizza (or both)."
   ]
  },
  {
   "cell_type": "code",
   "execution_count": 1,
   "metadata": {},
   "outputs": [
    {
     "name": "stdout",
     "output_type": "stream",
     "text": [
      "Person\n",
      "\n",
      "----------------------------------------------------\n",
      "|      name      |      age       |     gender     |\n",
      "----------------------------------------------------\n",
      "|      Amy       |       16       |     female     |\n",
      "|      Ben       |       21       |      male      |\n",
      "|      Cal       |       33       |      male      |\n",
      "|      Dan       |       13       |      male      |\n",
      "|      Eli       |       45       |      male      |\n",
      "|      Fay       |       21       |     female     |\n",
      "|      Gus       |       24       |      male      |\n",
      "|      Hil       |       30       |     female     |\n",
      "|      Ian       |       18       |      male      |\n",
      "----------------------------------------------------\n",
      "\n",
      "Frequents\n",
      "\n",
      "-----------------------------------\n",
      "|      name      |    pizzeria    |\n",
      "-----------------------------------\n",
      "|      Amy       |   Pizza Hut    |\n",
      "|      Ben       |   Pizza Hut    |\n",
      "|      Ben       | Chicago Pizza  |\n",
      "|      Cal       |   Straw Hat    |\n",
      "|      Cal       | New York Pizza |\n",
      "|      Dan       |   Straw Hat    |\n",
      "|      Dan       | New York Pizza |\n",
      "|      Eli       |   Straw Hat    |\n",
      "|      Eli       | Chicago Pizza  |\n",
      "|      Fay       |    Dominos     |\n",
      "|      Fay       | Little Caesars |\n",
      "|      Gus       | Chicago Pizza  |\n",
      "|      Gus       |   Pizza Hut    |\n",
      "|      Hil       |    Dominos     |\n",
      "|      Hil       |   Straw Hat    |\n",
      "|      Hil       |   Pizza Hut    |\n",
      "|      Ian       | New York Pizza |\n",
      "|      Ian       |   Straw Hat    |\n",
      "|      Ian       |    Dominos     |\n",
      "-----------------------------------\n",
      "\n",
      "Eats\n",
      "\n",
      "-----------------------------------\n",
      "|      name      |     pizza      |\n",
      "-----------------------------------\n",
      "|      Amy       |   pepperoni    |\n",
      "|      Amy       |    mushroom    |\n",
      "|      Ben       |   pepperoni    |\n",
      "|      Ben       |     cheese     |\n",
      "|      Cal       |    supreme     |\n",
      "|      Dan       |   pepperoni    |\n",
      "|      Dan       |     cheese     |\n",
      "|      Dan       |    sausage     |\n",
      "|      Dan       |    supreme     |\n",
      "|      Dan       |    mushroom    |\n",
      "|      Eli       |    supreme     |\n",
      "|      Eli       |     cheese     |\n",
      "|      Fay       |    mushroom    |\n",
      "|      Gus       |    mushroom    |\n",
      "|      Gus       |    supreme     |\n",
      "|      Gus       |     cheese     |\n",
      "|      Hil       |    supreme     |\n",
      "|      Hil       |     cheese     |\n",
      "|      Ian       |    supreme     |\n",
      "|      Ian       |   pepperoni    |\n",
      "-----------------------------------\n",
      "\n",
      "Serves\n",
      "\n",
      "----------------------------------------------------\n",
      "|    pizzeria    |     pizza      |     price      |\n",
      "----------------------------------------------------\n",
      "|   Pizza Hut    |   pepperoni    |       12       |\n",
      "|   Pizza Hut    |    sausage     |       12       |\n",
      "|   Pizza Hut    |     cheese     |       9        |\n",
      "|   Pizza Hut    |    supreme     |       12       |\n",
      "| Little Caesars |   pepperoni    |      9.75      |\n",
      "| Little Caesars |    sausage     |      9.5       |\n",
      "| Little Caesars |     cheese     |       7        |\n",
      "| Little Caesars |    mushroom    |      9.25      |\n",
      "|    Dominos     |     cheese     |      9.75      |\n",
      "|    Dominos     |    mushroom    |       11       |\n",
      "|   Straw Hat    |   pepperoni    |       8        |\n",
      "|   Straw Hat    |     cheese     |      9.25      |\n",
      "|   Straw Hat    |    sausage     |      9.75      |\n",
      "| New York Pizza |   pepperoni    |       8        |\n",
      "| New York Pizza |     cheese     |       7        |\n",
      "| New York Pizza |    supreme     |      8.5       |\n",
      "| Chicago Pizza  |     cheese     |      7.75      |\n",
      "| Chicago Pizza  |    supreme     |      8.5       |\n",
      "----------------------------------------------------\n",
      "\n"
     ]
    }
   ],
   "source": [
    "include(\"pizza_data.jl\")"
   ]
  },
  {
   "cell_type": "code",
   "execution_count": 2,
   "metadata": {},
   "outputs": [
    {
     "data": {
      "text/plain": [
       "-----------------------------------\n",
       "|      name      |     pizza      |\n",
       "-----------------------------------\n",
       "|      Amy       |   pepperoni    |\n",
       "|      Ben       |   pepperoni    |\n",
       "|      Dan       |   pepperoni    |\n",
       "|      Ian       |   pepperoni    |\n",
       "-----------------------------------\n"
      ]
     },
     "execution_count": 2,
     "metadata": {},
     "output_type": "execute_result"
    }
   ],
   "source": [
    "r1 = σ(Eats, :pizza, ==, \"pepperoni\")"
   ]
  },
  {
   "cell_type": "code",
   "execution_count": 3,
   "metadata": {},
   "outputs": [
    {
     "data": {
      "text/plain": [
       "-----------------------------------\n",
       "|      name      |     pizza      |\n",
       "-----------------------------------\n",
       "|      Amy       |    mushroom    |\n",
       "|      Dan       |    mushroom    |\n",
       "|      Fay       |    mushroom    |\n",
       "|      Gus       |    mushroom    |\n",
       "-----------------------------------\n"
      ]
     },
     "execution_count": 3,
     "metadata": {},
     "output_type": "execute_result"
    }
   ],
   "source": [
    "r2 = σ(Eats, :pizza, ==, \"mushroom\")"
   ]
  },
  {
   "cell_type": "code",
   "execution_count": 4,
   "metadata": {},
   "outputs": [
    {
     "data": {
      "text/plain": [
       "-----------------------------------\n",
       "|      name      |     pizza      |\n",
       "-----------------------------------\n",
       "|      Amy       |   pepperoni    |\n",
       "|      Ben       |   pepperoni    |\n",
       "|      Dan       |   pepperoni    |\n",
       "|      Ian       |   pepperoni    |\n",
       "|      Amy       |    mushroom    |\n",
       "|      Dan       |    mushroom    |\n",
       "|      Fay       |    mushroom    |\n",
       "|      Gus       |    mushroom    |\n",
       "-----------------------------------\n"
      ]
     },
     "execution_count": 4,
     "metadata": {},
     "output_type": "execute_result"
    }
   ],
   "source": [
    "r3 = ∪(r1, r2)"
   ]
  },
  {
   "cell_type": "code",
   "execution_count": 5,
   "metadata": {},
   "outputs": [
    {
     "data": {
      "text/plain": [
       "-----------------------------------\n",
       "|   eats_name    |     pizza      |\n",
       "-----------------------------------\n",
       "|      Amy       |   pepperoni    |\n",
       "|      Ben       |   pepperoni    |\n",
       "|      Dan       |   pepperoni    |\n",
       "|      Ian       |   pepperoni    |\n",
       "|      Amy       |    mushroom    |\n",
       "|      Dan       |    mushroom    |\n",
       "|      Fay       |    mushroom    |\n",
       "|      Gus       |    mushroom    |\n",
       "-----------------------------------\n"
      ]
     },
     "execution_count": 5,
     "metadata": {},
     "output_type": "execute_result"
    }
   ],
   "source": [
    "r4 = ρ(r3, :name, :eats_name)"
   ]
  },
  {
   "cell_type": "code",
   "execution_count": 6,
   "metadata": {},
   "outputs": [
    {
     "data": {
      "text/plain": [
       "--------------------------------------------------------------------------------------\n",
       "|      name      |      age       |     gender     |   eats_name    |     pizza      |\n",
       "--------------------------------------------------------------------------------------\n",
       "|      Amy       |       16       |     female     |      Amy       |   pepperoni    |\n",
       "|      Amy       |       16       |     female     |      Ben       |   pepperoni    |\n",
       "|      Amy       |       16       |     female     |      Dan       |   pepperoni    |\n",
       "|      Amy       |       16       |     female     |      Ian       |   pepperoni    |\n",
       "|      Amy       |       16       |     female     |      Amy       |    mushroom    |\n",
       "|      Amy       |       16       |     female     |      Dan       |    mushroom    |\n",
       "|      Amy       |       16       |     female     |      Fay       |    mushroom    |\n",
       "|      Amy       |       16       |     female     |      Gus       |    mushroom    |\n",
       "|      Ben       |       21       |      male      |      Amy       |   pepperoni    |\n",
       "|      Ben       |       21       |      male      |      Ben       |   pepperoni    |\n",
       "|      Ben       |       21       |      male      |      Dan       |   pepperoni    |\n",
       "|      Ben       |       21       |      male      |      Ian       |   pepperoni    |\n",
       "|      Ben       |       21       |      male      |      Amy       |    mushroom    |\n",
       "|      Ben       |       21       |      male      |      Dan       |    mushroom    |\n",
       "|      Ben       |       21       |      male      |      Fay       |    mushroom    |\n",
       "|      Ben       |       21       |      male      |      Gus       |    mushroom    |\n",
       "|      Cal       |       33       |      male      |      Amy       |   pepperoni    |\n",
       "|      Cal       |       33       |      male      |      Ben       |   pepperoni    |\n",
       "|      Cal       |       33       |      male      |      Dan       |   pepperoni    |\n",
       "|      Cal       |       33       |      male      |      Ian       |   pepperoni    |\n",
       "|      Cal       |       33       |      male      |      Amy       |    mushroom    |\n",
       "|      Cal       |       33       |      male      |      Dan       |    mushroom    |\n",
       "|      Cal       |       33       |      male      |      Fay       |    mushroom    |\n",
       "|      Cal       |       33       |      male      |      Gus       |    mushroom    |\n",
       "|      Dan       |       13       |      male      |      Amy       |   pepperoni    |\n",
       "|      Dan       |       13       |      male      |      Ben       |   pepperoni    |\n",
       "|      Dan       |       13       |      male      |      Dan       |   pepperoni    |\n",
       "|      Dan       |       13       |      male      |      Ian       |   pepperoni    |\n",
       "|      Dan       |       13       |      male      |      Amy       |    mushroom    |\n",
       "|      Dan       |       13       |      male      |      Dan       |    mushroom    |\n",
       "|      Dan       |       13       |      male      |      Fay       |    mushroom    |\n",
       "|      Dan       |       13       |      male      |      Gus       |    mushroom    |\n",
       "|      Eli       |       45       |      male      |      Amy       |   pepperoni    |\n",
       "|      Eli       |       45       |      male      |      Ben       |   pepperoni    |\n",
       "|      Eli       |       45       |      male      |      Dan       |   pepperoni    |\n",
       "|      Eli       |       45       |      male      |      Ian       |   pepperoni    |\n",
       "|      Eli       |       45       |      male      |      Amy       |    mushroom    |\n",
       "|      Eli       |       45       |      male      |      Dan       |    mushroom    |\n",
       "|      Eli       |       45       |      male      |      Fay       |    mushroom    |\n",
       "|      Eli       |       45       |      male      |      Gus       |    mushroom    |\n",
       "|      Fay       |       21       |     female     |      Amy       |   pepperoni    |\n",
       "|      Fay       |       21       |     female     |      Ben       |   pepperoni    |\n",
       "|      Fay       |       21       |     female     |      Dan       |   pepperoni    |\n",
       "|      Fay       |       21       |     female     |      Ian       |   pepperoni    |\n",
       "|      Fay       |       21       |     female     |      Amy       |    mushroom    |\n",
       "|      Fay       |       21       |     female     |      Dan       |    mushroom    |\n",
       "|      Fay       |       21       |     female     |      Fay       |    mushroom    |\n",
       "|      Fay       |       21       |     female     |      Gus       |    mushroom    |\n",
       "|      Gus       |       24       |      male      |      Amy       |   pepperoni    |\n",
       "|      Gus       |       24       |      male      |      Ben       |   pepperoni    |\n",
       "|      Gus       |       24       |      male      |      Dan       |   pepperoni    |\n",
       "|      Gus       |       24       |      male      |      Ian       |   pepperoni    |\n",
       "|      Gus       |       24       |      male      |      Amy       |    mushroom    |\n",
       "|      Gus       |       24       |      male      |      Dan       |    mushroom    |\n",
       "|      Gus       |       24       |      male      |      Fay       |    mushroom    |\n",
       "|      Gus       |       24       |      male      |      Gus       |    mushroom    |\n",
       "|      Hil       |       30       |     female     |      Amy       |   pepperoni    |\n",
       "|      Hil       |       30       |     female     |      Ben       |   pepperoni    |\n",
       "|      Hil       |       30       |     female     |      Dan       |   pepperoni    |\n",
       "|      Hil       |       30       |     female     |      Ian       |   pepperoni    |\n",
       "|      Hil       |       30       |     female     |      Amy       |    mushroom    |\n",
       "|      Hil       |       30       |     female     |      Dan       |    mushroom    |\n",
       "|      Hil       |       30       |     female     |      Fay       |    mushroom    |\n",
       "|      Hil       |       30       |     female     |      Gus       |    mushroom    |\n",
       "|      Ian       |       18       |      male      |      Amy       |   pepperoni    |\n",
       "|      Ian       |       18       |      male      |      Ben       |   pepperoni    |\n",
       "|      Ian       |       18       |      male      |      Dan       |   pepperoni    |\n",
       "|      Ian       |       18       |      male      |      Ian       |   pepperoni    |\n",
       "|      Ian       |       18       |      male      |      Amy       |    mushroom    |\n",
       "|      Ian       |       18       |      male      |      Dan       |    mushroom    |\n",
       "|      Ian       |       18       |      male      |      Fay       |    mushroom    |\n",
       "|      Ian       |       18       |      male      |      Gus       |    mushroom    |\n",
       "--------------------------------------------------------------------------------------\n"
      ]
     },
     "execution_count": 6,
     "metadata": {},
     "output_type": "execute_result"
    }
   ],
   "source": [
    "r5 = ×(Person, r4)"
   ]
  },
  {
   "cell_type": "code",
   "execution_count": 7,
   "metadata": {},
   "outputs": [
    {
     "data": {
      "text/plain": [
       "--------------------------------------------------------------------------------------\n",
       "|      name      |      age       |     gender     |   eats_name    |     pizza      |\n",
       "--------------------------------------------------------------------------------------\n",
       "|      Amy       |       16       |     female     |      Amy       |   pepperoni    |\n",
       "|      Amy       |       16       |     female     |      Amy       |    mushroom    |\n",
       "|      Ben       |       21       |      male      |      Ben       |   pepperoni    |\n",
       "|      Dan       |       13       |      male      |      Dan       |   pepperoni    |\n",
       "|      Dan       |       13       |      male      |      Dan       |    mushroom    |\n",
       "|      Fay       |       21       |     female     |      Fay       |    mushroom    |\n",
       "|      Gus       |       24       |      male      |      Gus       |    mushroom    |\n",
       "|      Ian       |       18       |      male      |      Ian       |   pepperoni    |\n",
       "--------------------------------------------------------------------------------------\n"
      ]
     },
     "execution_count": 7,
     "metadata": {},
     "output_type": "execute_result"
    }
   ],
   "source": [
    "r6 = σ(r5, :name, ==, :eats_name)"
   ]
  },
  {
   "cell_type": "code",
   "execution_count": 8,
   "metadata": {},
   "outputs": [
    {
     "data": {
      "text/plain": [
       "--------------------------------------------------------------------------------------\n",
       "|      name      |      age       |     gender     |   eats_name    |     pizza      |\n",
       "--------------------------------------------------------------------------------------\n",
       "|      Amy       |       16       |     female     |      Amy       |   pepperoni    |\n",
       "|      Amy       |       16       |     female     |      Amy       |    mushroom    |\n",
       "|      Fay       |       21       |     female     |      Fay       |    mushroom    |\n",
       "--------------------------------------------------------------------------------------\n"
      ]
     },
     "execution_count": 8,
     "metadata": {},
     "output_type": "execute_result"
    }
   ],
   "source": [
    "r7 = σ(r6, :gender, ==, \"female\")"
   ]
  },
  {
   "cell_type": "code",
   "execution_count": 9,
   "metadata": {},
   "outputs": [
    {
     "data": {
      "text/plain": [
       "------------------\n",
       "|      name      |\n",
       "------------------\n",
       "|      Amy       |\n",
       "|      Fay       |\n",
       "------------------\n"
      ]
     },
     "execution_count": 9,
     "metadata": {},
     "output_type": "execute_result"
    }
   ],
   "source": [
    "r8 = π(r7, :name)"
   ]
  },
  {
   "cell_type": "code",
   "execution_count": 10,
   "metadata": {},
   "outputs": [],
   "source": [
    "result = [t[1] for t in r8.tuples_values]\n",
    "@assert length(result) == 2\n",
    "@assert \"Amy\" ∈ result\n",
    "@assert \"Fay\" ∈ result"
   ]
  }
 ],
 "metadata": {
  "kernelspec": {
   "display_name": "Julia 1.1.0",
   "language": "julia",
   "name": "julia-1.1"
  },
  "language_info": {
   "file_extension": ".jl",
   "mimetype": "application/julia",
   "name": "julia",
   "version": "1.1.0"
  }
 },
 "nbformat": 4,
 "nbformat_minor": 2
}
