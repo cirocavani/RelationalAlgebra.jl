{
 "cells": [
  {
   "cell_type": "markdown",
   "metadata": {},
   "source": [
    "Find all pizzerias frequented by at least one person under the age of 18."
   ]
  },
  {
   "cell_type": "code",
   "execution_count": 1,
   "metadata": {},
   "outputs": [
    {
     "name": "stdout",
     "output_type": "stream",
     "text": [
      "Person\n",
      "\n",
      "----------------------------------------------------\n",
      "|      name      |      age       |     gender     |\n",
      "----------------------------------------------------\n",
      "|      Amy       |       16       |     female     |\n",
      "|      Ben       |       21       |      male      |\n",
      "|      Cal       |       33       |      male      |\n",
      "|      Dan       |       13       |      male      |\n",
      "|      Eli       |       45       |      male      |\n",
      "|      Fay       |       21       |     female     |\n",
      "|      Gus       |       24       |      male      |\n",
      "|      Hil       |       30       |     female     |\n",
      "|      Ian       |       18       |      male      |\n",
      "----------------------------------------------------\n",
      "\n",
      "Frequents\n",
      "\n",
      "-----------------------------------\n",
      "|      name      |    pizzeria    |\n",
      "-----------------------------------\n",
      "|      Amy       |   Pizza Hut    |\n",
      "|      Ben       |   Pizza Hut    |\n",
      "|      Ben       | Chicago Pizza  |\n",
      "|      Cal       |   Straw Hat    |\n",
      "|      Cal       | New York Pizza |\n",
      "|      Dan       |   Straw Hat    |\n",
      "|      Dan       | New York Pizza |\n",
      "|      Eli       |   Straw Hat    |\n",
      "|      Eli       | Chicago Pizza  |\n",
      "|      Fay       |    Dominos     |\n",
      "|      Fay       | Little Caesars |\n",
      "|      Gus       | Chicago Pizza  |\n",
      "|      Gus       |   Pizza Hut    |\n",
      "|      Hil       |    Dominos     |\n",
      "|      Hil       |   Straw Hat    |\n",
      "|      Hil       |   Pizza Hut    |\n",
      "|      Ian       | New York Pizza |\n",
      "|      Ian       |   Straw Hat    |\n",
      "|      Ian       |    Dominos     |\n",
      "-----------------------------------\n",
      "\n",
      "Eats\n",
      "\n",
      "-----------------------------------\n",
      "|      name      |     pizza      |\n",
      "-----------------------------------\n",
      "|      Amy       |   pepperoni    |\n",
      "|      Amy       |    mushroom    |\n",
      "|      Ben       |   pepperoni    |\n",
      "|      Ben       |     cheese     |\n",
      "|      Cal       |    supreme     |\n",
      "|      Dan       |   pepperoni    |\n",
      "|      Dan       |     cheese     |\n",
      "|      Dan       |    sausage     |\n",
      "|      Dan       |    supreme     |\n",
      "|      Dan       |    mushroom    |\n",
      "|      Eli       |    supreme     |\n",
      "|      Eli       |     cheese     |\n",
      "|      Fay       |    mushroom    |\n",
      "|      Gus       |    mushroom    |\n",
      "|      Gus       |    supreme     |\n",
      "|      Gus       |     cheese     |\n",
      "|      Hil       |    supreme     |\n",
      "|      Hil       |     cheese     |\n",
      "|      Ian       |    supreme     |\n",
      "|      Ian       |   pepperoni    |\n",
      "-----------------------------------\n",
      "\n",
      "Serves\n",
      "\n",
      "----------------------------------------------------\n",
      "|    pizzeria    |     pizza      |     price      |\n",
      "----------------------------------------------------\n",
      "|   Pizza Hut    |   pepperoni    |       12       |\n",
      "|   Pizza Hut    |    sausage     |       12       |\n",
      "|   Pizza Hut    |     cheese     |       9        |\n",
      "|   Pizza Hut    |    supreme     |       12       |\n",
      "| Little Caesars |   pepperoni    |      9.75      |\n",
      "| Little Caesars |    sausage     |      9.5       |\n",
      "| Little Caesars |     cheese     |       7        |\n",
      "| Little Caesars |    mushroom    |      9.25      |\n",
      "|    Dominos     |     cheese     |      9.75      |\n",
      "|    Dominos     |    mushroom    |       11       |\n",
      "|   Straw Hat    |   pepperoni    |       8        |\n",
      "|   Straw Hat    |     cheese     |      9.25      |\n",
      "|   Straw Hat    |    sausage     |      9.75      |\n",
      "| New York Pizza |   pepperoni    |       8        |\n",
      "| New York Pizza |     cheese     |       7        |\n",
      "| New York Pizza |    supreme     |      8.5       |\n",
      "| Chicago Pizza  |     cheese     |      7.75      |\n",
      "| Chicago Pizza  |    supreme     |      8.5       |\n",
      "----------------------------------------------------\n",
      "\n"
     ]
    }
   ],
   "source": [
    "include(\"pizza_data.jl\")"
   ]
  },
  {
   "cell_type": "code",
   "execution_count": 2,
   "metadata": {},
   "outputs": [
    {
     "data": {
      "text/plain": [
       "----------------------------------------------------\n",
       "|      name      |      age       |     gender     |\n",
       "----------------------------------------------------\n",
       "|      Amy       |       16       |     female     |\n",
       "|      Dan       |       13       |      male      |\n",
       "----------------------------------------------------\n"
      ]
     },
     "execution_count": 2,
     "metadata": {},
     "output_type": "execute_result"
    }
   ],
   "source": [
    "r1 = σ(Person, :age, <, 18)"
   ]
  },
  {
   "cell_type": "code",
   "execution_count": 3,
   "metadata": {},
   "outputs": [
    {
     "data": {
      "text/plain": [
       "-----------------------------------\n",
       "| frequents_name |    pizzeria    |\n",
       "-----------------------------------\n",
       "|      Amy       |   Pizza Hut    |\n",
       "|      Ben       |   Pizza Hut    |\n",
       "|      Ben       | Chicago Pizza  |\n",
       "|      Cal       |   Straw Hat    |\n",
       "|      Cal       | New York Pizza |\n",
       "|      Dan       |   Straw Hat    |\n",
       "|      Dan       | New York Pizza |\n",
       "|      Eli       |   Straw Hat    |\n",
       "|      Eli       | Chicago Pizza  |\n",
       "|      Fay       |    Dominos     |\n",
       "|      Fay       | Little Caesars |\n",
       "|      Gus       | Chicago Pizza  |\n",
       "|      Gus       |   Pizza Hut    |\n",
       "|      Hil       |    Dominos     |\n",
       "|      Hil       |   Straw Hat    |\n",
       "|      Hil       |   Pizza Hut    |\n",
       "|      Ian       | New York Pizza |\n",
       "|      Ian       |   Straw Hat    |\n",
       "|      Ian       |    Dominos     |\n",
       "-----------------------------------\n"
      ]
     },
     "execution_count": 3,
     "metadata": {},
     "output_type": "execute_result"
    }
   ],
   "source": [
    "r2 = ρ(Frequents, :name, :frequents_name)"
   ]
  },
  {
   "cell_type": "code",
   "execution_count": 4,
   "metadata": {},
   "outputs": [
    {
     "data": {
      "text/plain": [
       "--------------------------------------------------------------------------------------\n",
       "|      name      |      age       |     gender     | frequents_name |    pizzeria    |\n",
       "--------------------------------------------------------------------------------------\n",
       "|      Amy       |       16       |     female     |      Amy       |   Pizza Hut    |\n",
       "|      Amy       |       16       |     female     |      Ben       |   Pizza Hut    |\n",
       "|      Amy       |       16       |     female     |      Ben       | Chicago Pizza  |\n",
       "|      Amy       |       16       |     female     |      Cal       |   Straw Hat    |\n",
       "|      Amy       |       16       |     female     |      Cal       | New York Pizza |\n",
       "|      Amy       |       16       |     female     |      Dan       |   Straw Hat    |\n",
       "|      Amy       |       16       |     female     |      Dan       | New York Pizza |\n",
       "|      Amy       |       16       |     female     |      Eli       |   Straw Hat    |\n",
       "|      Amy       |       16       |     female     |      Eli       | Chicago Pizza  |\n",
       "|      Amy       |       16       |     female     |      Fay       |    Dominos     |\n",
       "|      Amy       |       16       |     female     |      Fay       | Little Caesars |\n",
       "|      Amy       |       16       |     female     |      Gus       | Chicago Pizza  |\n",
       "|      Amy       |       16       |     female     |      Gus       |   Pizza Hut    |\n",
       "|      Amy       |       16       |     female     |      Hil       |    Dominos     |\n",
       "|      Amy       |       16       |     female     |      Hil       |   Straw Hat    |\n",
       "|      Amy       |       16       |     female     |      Hil       |   Pizza Hut    |\n",
       "|      Amy       |       16       |     female     |      Ian       | New York Pizza |\n",
       "|      Amy       |       16       |     female     |      Ian       |   Straw Hat    |\n",
       "|      Amy       |       16       |     female     |      Ian       |    Dominos     |\n",
       "|      Dan       |       13       |      male      |      Amy       |   Pizza Hut    |\n",
       "|      Dan       |       13       |      male      |      Ben       |   Pizza Hut    |\n",
       "|      Dan       |       13       |      male      |      Ben       | Chicago Pizza  |\n",
       "|      Dan       |       13       |      male      |      Cal       |   Straw Hat    |\n",
       "|      Dan       |       13       |      male      |      Cal       | New York Pizza |\n",
       "|      Dan       |       13       |      male      |      Dan       |   Straw Hat    |\n",
       "|      Dan       |       13       |      male      |      Dan       | New York Pizza |\n",
       "|      Dan       |       13       |      male      |      Eli       |   Straw Hat    |\n",
       "|      Dan       |       13       |      male      |      Eli       | Chicago Pizza  |\n",
       "|      Dan       |       13       |      male      |      Fay       |    Dominos     |\n",
       "|      Dan       |       13       |      male      |      Fay       | Little Caesars |\n",
       "|      Dan       |       13       |      male      |      Gus       | Chicago Pizza  |\n",
       "|      Dan       |       13       |      male      |      Gus       |   Pizza Hut    |\n",
       "|      Dan       |       13       |      male      |      Hil       |    Dominos     |\n",
       "|      Dan       |       13       |      male      |      Hil       |   Straw Hat    |\n",
       "|      Dan       |       13       |      male      |      Hil       |   Pizza Hut    |\n",
       "|      Dan       |       13       |      male      |      Ian       | New York Pizza |\n",
       "|      Dan       |       13       |      male      |      Ian       |   Straw Hat    |\n",
       "|      Dan       |       13       |      male      |      Ian       |    Dominos     |\n",
       "--------------------------------------------------------------------------------------\n"
      ]
     },
     "execution_count": 4,
     "metadata": {},
     "output_type": "execute_result"
    }
   ],
   "source": [
    "r3 = r1 × r2"
   ]
  },
  {
   "cell_type": "code",
   "execution_count": 5,
   "metadata": {},
   "outputs": [
    {
     "data": {
      "text/plain": [
       "--------------------------------------------------------------------------------------\n",
       "|      name      |      age       |     gender     | frequents_name |    pizzeria    |\n",
       "--------------------------------------------------------------------------------------\n",
       "|      Amy       |       16       |     female     |      Amy       |   Pizza Hut    |\n",
       "|      Dan       |       13       |      male      |      Dan       |   Straw Hat    |\n",
       "|      Dan       |       13       |      male      |      Dan       | New York Pizza |\n",
       "--------------------------------------------------------------------------------------\n"
      ]
     },
     "execution_count": 5,
     "metadata": {},
     "output_type": "execute_result"
    }
   ],
   "source": [
    "r4 = σ(r3, :name, ==, :frequents_name)"
   ]
  },
  {
   "cell_type": "code",
   "execution_count": 6,
   "metadata": {},
   "outputs": [
    {
     "data": {
      "text/plain": [
       "------------------\n",
       "|    pizzeria    |\n",
       "------------------\n",
       "|   Pizza Hut    |\n",
       "|   Straw Hat    |\n",
       "| New York Pizza |\n",
       "------------------\n"
      ]
     },
     "execution_count": 6,
     "metadata": {},
     "output_type": "execute_result"
    }
   ],
   "source": [
    "r5 = π(r4, :pizzeria)"
   ]
  },
  {
   "cell_type": "code",
   "execution_count": 7,
   "metadata": {},
   "outputs": [],
   "source": [
    "result = [t[1] for t in r5.tuples_values]\n",
    "@assert length(result) == 3\n",
    "@assert \"Straw Hat\" ∈ result\n",
    "@assert \"New York Pizza\" ∈ result\n",
    "@assert \"Pizza Hut\" ∈ result"
   ]
  }
 ],
 "metadata": {
  "kernelspec": {
   "display_name": "Julia 1.1.0",
   "language": "julia",
   "name": "julia-1.1"
  },
  "language_info": {
   "file_extension": ".jl",
   "mimetype": "application/julia",
   "name": "julia",
   "version": "1.1.0"
  }
 },
 "nbformat": 4,
 "nbformat_minor": 2
}
